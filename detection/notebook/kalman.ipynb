{
 "cells": [
  {
   "cell_type": "code",
   "execution_count": 1,
   "metadata": {
    "collapsed": false
   },
   "outputs": [],
   "source": [
    "%matplotlib inline\n",
    "import os\n",
    "import sys\n",
    "import matplotlib.pyplot as plt\n",
    "import numpy as np\n",
    "\n",
    "sys.path.append(os.path.join(os.getcwd(), '..'))\n",
    "\n",
    "from aye.kalman_filter import *"
   ]
  },
  {
   "cell_type": "code",
   "execution_count": 2,
   "metadata": {
    "collapsed": false
   },
   "outputs": [],
   "source": [
    "kf = KalmanFilter()\n",
    "kf.init(np.matrix('0;0;1;1'))"
   ]
  },
  {
   "cell_type": "code",
   "execution_count": 5,
   "metadata": {
    "collapsed": false
   },
   "outputs": [
    {
     "name": "stdout",
     "output_type": "stream",
     "text": [
      "[[ 3.        ]\n",
      " [ 3.        ]\n",
      " [ 1.33333333]\n",
      " [ 1.33333333]]\n",
      "[[ 2.          0.          1.          0.        ]\n",
      " [ 0.          2.          0.          1.        ]\n",
      " [ 1.          0.          0.66666667  0.        ]\n",
      " [ 0.          1.          0.          0.66666667]]\n"
     ]
    }
   ],
   "source": [
    "kf.predict(1)\n",
    "print(kf.X)\n",
    "print(kf.P)"
   ]
  },
  {
   "cell_type": "code",
   "execution_count": 6,
   "metadata": {
    "collapsed": false,
    "scrolled": true
   },
   "outputs": [
    {
     "name": "stdout",
     "output_type": "stream",
     "text": [
      "[[ 3.16666667]\n",
      " [ 3.16666667]\n",
      " [ 1.41666667]\n",
      " [ 1.41666667]]\n",
      "[[ 0.66666667  0.          0.33333333  0.        ]\n",
      " [ 0.          0.66666667  0.          0.33333333]\n",
      " [ 0.33333333  0.          0.33333333  0.        ]\n",
      " [ 0.          0.33333333  0.          0.33333333]]\n"
     ]
    }
   ],
   "source": [
    "kf.update(np.matrix('3.25;3.25'))\n",
    "print(kf.X)\n",
    "print(kf.P)"
   ]
  },
  {
   "cell_type": "code",
   "execution_count": 11,
   "metadata": {
    "collapsed": false
   },
   "outputs": [
    {
     "data": {
      "text/plain": [
       "array([[ 0.5,  0. ],\n",
       "       [ 0. ,  0.5]])"
      ]
     },
     "execution_count": 11,
     "metadata": {},
     "output_type": "execute_result"
    }
   ],
   "source": []
  },
  {
   "cell_type": "code",
   "execution_count": null,
   "metadata": {
    "collapsed": true
   },
   "outputs": [],
   "source": []
  }
 ],
 "metadata": {
  "kernelspec": {
   "display_name": "Python 2",
   "language": "python",
   "name": "python2"
  },
  "language_info": {
   "codemirror_mode": {
    "name": "ipython",
    "version": 2
   },
   "file_extension": ".py",
   "mimetype": "text/x-python",
   "name": "python",
   "nbconvert_exporter": "python",
   "pygments_lexer": "ipython2",
   "version": "2.7.11"
  }
 },
 "nbformat": 4,
 "nbformat_minor": 0
}
