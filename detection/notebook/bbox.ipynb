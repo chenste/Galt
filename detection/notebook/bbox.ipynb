{
 "cells": [
  {
   "cell_type": "code",
   "execution_count": 61,
   "metadata": {
    "collapsed": false
   },
   "outputs": [],
   "source": [
    "%matplotlib inline\n",
    "import numpy as np\n",
    "import matplotlib.pyplot as plt\n",
    "import matplotlib.patches as patches\n",
    "from sklearn.utils import linear_assignment_ as munkres"
   ]
  },
  {
   "cell_type": "code",
   "execution_count": 151,
   "metadata": {
    "collapsed": false
   },
   "outputs": [],
   "source": [
    "class OverlapRatioType:\n",
    "    Union, Min = range(2)\n",
    "\n",
    "def bbox_intersect(bbox1, bbox2):\n",
    "    x1, y1, w1, h1 = bbox1\n",
    "    x2, y2, w2, h2 = bbox2\n",
    "    return (abs(x1 - x2) * 2 < (w1 + w2)) and (abs(y1 - y2) * 2 < (h1 + h2))\n",
    "\n",
    "def bbox_overlap_ratio(bbox1, bbox2, ratio_type=OverlapRatioType.Union):\n",
    "    if bbox_intersect(bbox1, bbox2):\n",
    "        x1, y1, w1, h1 = bbox1\n",
    "        x2, y2, w2, h2 = bbox2\n",
    "        # intersection area is a * b, where a is width and b is height\n",
    "        a = max(0, min(x1 + w1, x2 + w2) - max(x1, x2))\n",
    "        b = max(0, min(y1 + h1, y2 + h2) - max(y1, y2))\n",
    "        area_intersection = a * b\n",
    "        area_b1 = w1 * h1\n",
    "        area_b2 = w2 * h2\n",
    "        if ratio_type == OverlapRatioType.Union:\n",
    "            area_union = area_b1 + area_b2 - area_intersection\n",
    "            overlap_ratio = area_intersection / area_union\n",
    "        elif ratio_type == OverlapRatioType.Min:\n",
    "            area_min = min(area_b1, area_b2)\n",
    "            overlap_ratio = area_intersection / area_min\n",
    "    else:\n",
    "        overlap_ratio = 0.0\n",
    "    \n",
    "    return overlap_ratio\n",
    "\n",
    "def bboxes_overlap_ratio(bboxes1, bboxes2, ratio_type=OverlapRatioType.Union):\n",
    "    n1 = len(bboxes1)\n",
    "    n2 = len(bboxes2)\n",
    "    \n",
    "    R = np.zeros((n1, n2))\n",
    "    \n",
    "    for i1, b1 in enumerate(bboxes1):\n",
    "        for i2, b2 in enumerate(bboxes2):                \n",
    "            R[i1, i2] = bbox_overlap_ratio(b1, b2)\n",
    "    return R\n",
    "    \n",
    "def bbox_distance_squared(bbox1, bbox2):\n",
    "    x1, y1, w1, h1 = bbox1\n",
    "    x2, y2, w2, h2 = bbox2\n",
    "    cx1 = x1 + w1 / 2.0\n",
    "    cy1 = y1 + h1 / 2.0\n",
    "    cx2 = x2 + w2 / 2.0\n",
    "    cy2 = y2 + h2 / 2.0\n",
    "    return (cx1 - cx2) ** 2 + (cy1 - cy2) ** 2\n",
    "\n",
    "def bbox_distance_squared_area_ratio(bbox1, bbox2):\n",
    "    x1, y1, w1, h1 = bbox1\n",
    "    x2, y2, w2, h2 = bbox2\n",
    "    cx1 = x1 + w1 / 2.0\n",
    "    cy1 = y1 + h1 / 2.0\n",
    "    cx2 = x2 + w2 / 2.0\n",
    "    cy2 = y2 + h2 / 2.0\n",
    "    distance_squared =  (cx1 - cx2) ** 2 + (cy1 - cy2) ** 2\n",
    "    area = w1 * h1 + w2 * h2\n",
    "    return distance_squared / area\n",
    "    \n",
    "def bboxes_assign_cost(bboxes1, bboxes2):\n",
    "    n1 = len(bboxes1)\n",
    "    n2 = len(bboxes2)\n",
    "    assert n1 > 0 and n2 > 0\n",
    "    \n",
    "    C = np.zeros((n1, n2))\n",
    "    for i1, b1 in enumerate(bboxes1):\n",
    "        for i2, b2 in enumerate(bboxes2):\n",
    "            overlap_ratio = bbox_overlap_ratio(b1, b2)\n",
    "            overlap_cost = 1 - overlap_ratio\n",
    "            distance_squared_area_cost = bbox_distance_squared_area_ratio(b1, b2)\n",
    "            C[i1, i2] = overlap_cost  + distance_squared_area_cost\n",
    "    return C"
   ]
  },
  {
   "cell_type": "code",
   "execution_count": 30,
   "metadata": {
    "collapsed": true
   },
   "outputs": [],
   "source": [
    "def plot_bboxes(ax, bboxes, color='blue', alpha=0.5):\n",
    "    for bbox in bboxes:\n",
    "        x, y, w, h = bbox\n",
    "        rect = patches.Rectangle((x, y), w, h, facecolor=color, alpha=alpha)\n",
    "        ax.add_patch(rect)"
   ]
  },
  {
   "cell_type": "code",
   "execution_count": 140,
   "metadata": {
    "collapsed": false
   },
   "outputs": [
    {
     "data": {
      "image/png": "[encoded data removed]",
      "text/plain": [
       "<matplotlib.figure.Figure at 0x7f8cc58d0850>"
      ]
     },
     "metadata": {},
     "output_type": "display_data"
    }
   ],
   "source": [
    "d = 1\n",
    "bboxes1 = np.array([[d, d, d, d],\n",
    "                    [d, 3 * d, d, d], \n",
    "                    [d, 5 * d, d, d],\n",
    "                    [3 * d, d, d, d], \n",
    "                    [3 * d, 3 * d, d, d],\n",
    "                    [3 * d, 5 * d, d, d],\n",
    "                    [5 * d, d, d, d],\n",
    "                    [5 * d, 3 * d, d ,d],\n",
    "                    [5 * d, 5 * d, d, d],\n",
    "                    [0, 8 * d, d, d]], float)\n",
    "\n",
    "bboxes2 = np.array([[d * 1.5, d, d, d],\n",
    "                    [7 * d, 7 * d, d, d],\n",
    "                    [0.5 * d, 3.5 * d, d, d], \n",
    "                    [d, 6 * d, d, d],\n",
    "                    [3.5 * d, d, d, d],\n",
    "                    [3 * d, 3.5 * d, d, d],\n",
    "                    [3.25 * d, 5.25 * d, 0.5 * d, 0.5 * d],\n",
    "                    [5.5 * d, 0.5 * d, d, d],\n",
    "                    [6 * d, 3 * d, d, d],\n",
    "                    [5 * d, 4.5 * d, 2 * d, 2 * d]], float)\n",
    "\n",
    "fig = plt.figure()\n",
    "ax = fig.add_subplot(111, aspect='equal')\n",
    "plot_bboxes(ax, bboxes1)\n",
    "plot_bboxes(ax, bboxes2, color='red')\n",
    "\n",
    "ax.autoscale_view(tight=False)"
   ]
  },
  {
   "cell_type": "code",
   "execution_count": 181,
   "metadata": {
    "collapsed": true
   },
   "outputs": [],
   "source": [
    "def pad_cost_matrix(cost_matrix, unassigned_cost):\n",
    "    if unassigned_cost == 0.0:\n",
    "        return cost_matrix\n",
    "\n",
    "    r, c = cost_matrix.shape\n",
    "    # padded size\n",
    "    n = r + c\n",
    "    float_max = np.finfo(np.float).max\n",
    "    padded_cost_matrix = np.ones((n, n)) * float_max\n",
    "    # fill in \n",
    "    padded_cost_matrix[:r, :c] = cost_matrix\n",
    "    padded_cost_matrix[r:, c:] = 0.0\n",
    "    padded_cost_matrix[range(r), range(c, n)] = unassigned_cost\n",
    "    padded_cost_matrix[range(r, n), range(c)] = unassigned_cost\n",
    "    return padded_cost_matrix\n",
    "\n",
    "def hungarian_assignment(cost_matrix, unassigned_cost=1.5):\n",
    "    padded_cost_matrix = pad_cost_matrix(cost_matrix, unassigned_cost)\n",
    "    return munkres.linear_assignment(padded_cost_matrix)"
   ]
  },
  {
   "cell_type": "code",
   "execution_count": 184,
   "metadata": {
    "collapsed": false
   },
   "outputs": [
    {
     "data": {
      "image/png": "[encoded data removed]",
      "text/plain": [
       "<matplotlib.figure.Figure at 0x7f8cc5d53e50>"
      ]
     },
     "metadata": {},
     "output_type": "display_data"
    }
   ],
   "source": [
    "# Test bbox overlap ratio\n",
    "cost = bboxes_assign_cost(bboxes1, bboxes2)\n",
    "assignment = munkres.linear_assignment(cost)\n",
    "fig = plt.figure()\n",
    "ax = fig.add_subplot(111, aspect='equal')\n",
    "plot_bboxes(ax, bboxes1)\n",
    "plot_bboxes(ax, bboxes2, color='red')\n",
    "ax.autoscale_view(tight=False)\n",
    "for pair in assignment:\n",
    "    i1, i2 = pair\n",
    "    b1 = bboxes1[i1]\n",
    "    b2 = bboxes2[i2]\n",
    "    x1, y1, w1, h1 = b1\n",
    "    x2, y2, w2, h2 = b2\n",
    "    ax.plot([x1 + w1 / 2, x2 + w2 / 2], [y1 + h1 / 2, y2 + h2 / 2], c='green')"
   ]
  },
  {
   "cell_type": "code",
   "execution_count": 193,
   "metadata": {
    "collapsed": false
   },
   "outputs": [
    {
     "name": "stdout",
     "output_type": "stream",
     "text": [
      "[[0 0]\n",
      " [1 2]\n",
      " [2 3]\n",
      " [3 4]\n",
      " [4 5]\n",
      " [5 6]\n",
      " [6 7]\n",
      " [7 8]\n",
      " [8 9]]\n"
     ]
    },
    {
     "data": {
      "image/png": "[encoded data removed]",
      "text/plain": [
       "<matplotlib.figure.Figure at 0x7f8cc5bc4210>"
      ]
     },
     "metadata": {},
     "output_type": "display_data"
    }
   ],
   "source": [
    "assignment = hungarian_assignment(cost)\n",
    "r, c = cost.shape\n",
    "\n",
    "r_inds = assignment[:, 0]\n",
    "c_inds = assignment[:, 1]\n",
    "match_inds = (r_inds < r) & (c_inds < c)\n",
    "matches = assignment[match_inds]\n",
    "\n",
    "print(matches)\n",
    "fig = plt.figure()\n",
    "ax = fig.add_subplot(111, aspect='equal')\n",
    "plot_bboxes(ax, bboxes1)\n",
    "plot_bboxes(ax, bboxes2, color='red')\n",
    "ax.autoscale_view(tight=False)\n",
    "for pair in matches:\n",
    "    i1, i2 = pair\n",
    "    b1 = bboxes1[i1]\n",
    "    b2 = bboxes2[i2]\n",
    "    x1, y1, w1, h1 = b1\n",
    "    x2, y2, w2, h2 = b2\n",
    "    ax.plot([x1 + w1 / 2, x2 + w2 / 2], [y1 + h1 / 2, y2 + h2 / 2], c='green')"
   ]
  },
  {
   "cell_type": "code",
   "execution_count": 179,
   "metadata": {
    "collapsed": false
   },
   "outputs": [
    {
     "name": "stdout",
     "output_type": "stream",
     "text": [
      "[[    1.     1.     1.     2.  1000.  1000.  1000.  1000.]\n",
      " [    1.     1.     1.  1000.     2.  1000.  1000.  1000.]\n",
      " [    1.     1.     1.  1000.  1000.     2.  1000.  1000.]\n",
      " [    1.     1.     1.  1000.  1000.  1000.     2.  1000.]\n",
      " [    1.     1.     1.  1000.  1000.  1000.  1000.     2.]\n",
      " [    2.  1000.  1000.     0.     0.     0.     0.     0.]\n",
      " [ 1000.     2.  1000.     0.     0.     0.     0.     0.]\n",
      " [ 1000.  1000.     2.     0.     0.     0.     0.     0.]]\n"
     ]
    }
   ],
   "source": []
  },
  {
   "cell_type": "code",
   "execution_count": null,
   "metadata": {
    "collapsed": true
   },
   "outputs": [],
   "source": []
  }
 ],
 "metadata": {
  "kernelspec": {
   "display_name": "Python 2",
   "language": "python",
   "name": "python2"
  },
  "language_info": {
   "codemirror_mode": {
    "name": "ipython",
    "version": 2
   },
   "file_extension": ".py",
   "mimetype": "text/x-python",
   "name": "python",
   "nbconvert_exporter": "python",
   "pygments_lexer": "ipython2",
   "version": "2.7.11"
  }
 },
 "nbformat": 4,
 "nbformat_minor": 0
}
