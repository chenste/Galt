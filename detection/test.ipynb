{
 "cells": [
  {
   "cell_type": "code",
   "execution_count": 260,
   "metadata": {
    "collapsed": true
   },
   "outputs": [],
   "source": [
    "%matplotlib qt\n",
    "import numpy as np\n",
    "import cv2\n",
    "import matplotlib.pyplot as plt\n",
    "from mpl_toolkits.mplot3d import Axes3D\n",
    "from sklearn import svm"
   ]
  },
  {
   "cell_type": "code",
   "execution_count": 261,
   "metadata": {
    "collapsed": false
   },
   "outputs": [],
   "source": [
    "# Load image\n",
    "\n",
    "\n",
    "def subsample_image(image, k=0.25):\n",
    "    return cv2.resize(image, None, fx=k, fy=k, \n",
    "                      interpolation=cv2.INTER_NEAREST)\n",
    "\n",
    "\n",
    "imbgr_rect = cv2.imread(\n",
    "    '/home/chao/Workspace/repo/kumar_robotics/Galt/detection/labeled_data/frame0001.png')\n",
    "imgray_apple = cv2.imread(\n",
    "    '/home/chao/Workspace/repo/kumar_robotics/Galt/detection/labeled_data/frame0001_apple.png',\n",
    "    cv2.IMREAD_GRAYSCALE)\n",
    "imgray_other = cv2.imread(\n",
    "    '/home/chao/Workspace/repo/kumar_robotics/Galt/detection/labeled_data/frame0001_other.png',\n",
    "    cv2.IMREAD_GRAYSCALE)\n",
    "\n",
    "# Resize image to half\n",
    "imgray_apple = subsample_image(imgray_apple)\n",
    "imgray_other = subsample_image(imgray_other)\n",
    "imbgr_rect = subsample_image(imbgr_rect)"
   ]
  },
  {
   "cell_type": "code",
   "execution_count": 262,
   "metadata": {
    "collapsed": false
   },
   "outputs": [
    {
     "name": "stdout",
     "output_type": "stream",
     "text": [
      "('apple: ', 1195)\n"
     ]
    },
    {
     "data": {
      "text/plain": [
       "<matplotlib.image.AxesImage at 0x7f834e66e350>"
      ]
     },
     "execution_count": 262,
     "metadata": {},
     "output_type": "execute_result"
    }
   ],
   "source": [
    "# Extract bgr training data from image\n",
    "bw_apple = imgray_apple > 0\n",
    "imbgr_apple = np.array(imbgr_rect, copy=True)\n",
    "imbgr_apple[~bw_apple] = 0\n",
    "\n",
    "x_apple_bgr = imbgr_rect[bw_apple]\n",
    "n_x_apple = len(x_apple_bgr)\n",
    "print('apple: ', n_x_apple)\n",
    "plt.imshow(imbgr_apple)"
   ]
  },
  {
   "cell_type": "code",
   "execution_count": 263,
   "metadata": {
    "collapsed": false
   },
   "outputs": [
    {
     "name": "stdout",
     "output_type": "stream",
     "text": [
      "('other: ', 2589)\n"
     ]
    },
    {
     "data": {
      "text/plain": [
       "<matplotlib.image.AxesImage at 0x7f834b8be050>"
      ]
     },
     "execution_count": 263,
     "metadata": {},
     "output_type": "execute_result"
    }
   ],
   "source": [
    "bw_other = imgray_other > 0\n",
    "imbgr_other = np.array(imbgr_rect, copy=True)\n",
    "imbgr_other[~bw_other] = 0\n",
    "x_other_bgr = imbgr_rect[bw_other]\n",
    "\n",
    "# Usually a lot more other than apple, so we subsample other to \n",
    "# be approximately the same as apple\n",
    "r_other_apple = int(len(x_other_bgr) / n_x_apple / 2)\n",
    "x_other_bgr = x_other_bgr[::r_other_apple]\n",
    "n_x_other = len(x_other_bgr)\n",
    "print('other: ', n_x_other)\n",
    "plt.imshow(imbgr_other)"
   ]
  },
  {
   "cell_type": "code",
   "execution_count": 265,
   "metadata": {
    "collapsed": false
   },
   "outputs": [],
   "source": [
    "fig = plt.figure(figsize=(6, 6))\n",
    "ax = fig.add_subplot(111, projection='3d')\n",
    "r = 2\n",
    "x_apple_bgr_sub = x_apple_bgr[::r]\n",
    "x_other_bgr_sub = x_other_bgr[::r]\n",
    "ax.scatter(x_apple_bgr_sub[:, 0], x_apple_bgr_sub[:, 1], x_apple_bgr_sub[:, 2], c='r')\n",
    "ax.scatter(x_other_bgr_sub[:, 0], x_other_bgr_sub[:, 1], x_other_bgr_sub[:, 2], c='b')\n",
    "ax.set_xlabel('b')\n",
    "ax.set_ylabel('g')\n",
    "ax.set_zlabel('r')\n",
    "plt.show()"
   ]
  },
  {
   "cell_type": "code",
   "execution_count": 266,
   "metadata": {
    "collapsed": false
   },
   "outputs": [],
   "source": [
    "# Test with hsv colorspace\n",
    "\n",
    "imhsv_rect = cv2.cvtColor(imbgr_rect, cv2.COLOR_BGR2HSV)"
   ]
  },
  {
   "cell_type": "code",
   "execution_count": 267,
   "metadata": {
    "collapsed": false
   },
   "outputs": [],
   "source": [
    "# Extract hsv for apple and other\n",
    "x_apple_hsv = imhsv_rect[bw_apple]\n",
    "x_other_hsv = imhsv_rect[bw_other]\n",
    "x_other_hsv = x_other_hsv[::r_other_apple]"
   ]
  },
  {
   "cell_type": "code",
   "execution_count": 268,
   "metadata": {
    "collapsed": false
   },
   "outputs": [],
   "source": [
    "fig = plt.figure(figsize=(6, 6))\n",
    "ax = fig.add_subplot(111, projection='3d')\n",
    "r = 2\n",
    "x_apple_hsv_sub = x_apple_hsv[::r]\n",
    "x_other_hsv_sub = x_other_hsv[::r]\n",
    "ax.scatter(x_apple_hsv_sub[:, 0], x_apple_hsv_sub[:, 1], x_apple_hsv_sub[:, 2], c='r')\n",
    "ax.scatter(x_other_hsv_sub[:, 0], x_other_hsv_sub[:, 1], x_other_hsv_sub[:, 2], c='b')\n",
    "ax.set_xlabel('b')\n",
    "ax.set_ylabel('g')\n",
    "ax.set_zlabel('r')\n",
    "plt.show()"
   ]
  },
  {
   "cell_type": "code",
   "execution_count": 269,
   "metadata": {
    "collapsed": true
   },
   "outputs": [],
   "source": [
    "# Test with LAB colorspace\n",
    "imlab_rect = cv2.cvtColor(imbgr_rect, cv2.COLOR_BGR2LAB)\n",
    "x_apple_lab = imlab_rect[bw_apple]\n",
    "x_other_lab = imlab_rect[bw_other]\n",
    "x_other_lab = x_other_lab[::r_other_apple]"
   ]
  },
  {
   "cell_type": "code",
   "execution_count": 270,
   "metadata": {
    "collapsed": true
   },
   "outputs": [],
   "source": [
    "fig = plt.figure(figsize=(6, 6))\n",
    "ax = fig.add_subplot(111, projection='3d')\n",
    "r = 2\n",
    "x_apple_lab_sub = x_apple_lab[::r]\n",
    "x_other_lab_sub = x_other_lab[::r]\n",
    "ax.scatter(x_apple_lab_sub[:, 0], x_apple_lab_sub[:, 1], x_apple_lab_sub[:, 2], c='r')\n",
    "ax.scatter(x_other_lab_sub[:, 0], x_other_lab_sub[:, 1], x_other_lab_sub[:, 2], c='b')\n",
    "ax.set_xlabel('b')\n",
    "ax.set_ylabel('g')\n",
    "ax.set_zlabel('r')\n",
    "plt.show()"
   ]
  },
  {
   "cell_type": "code",
   "execution_count": 271,
   "metadata": {
    "collapsed": false
   },
   "outputs": [
    {
     "name": "stdout",
     "output_type": "stream",
     "text": [
      "(1195, 3)\n",
      "(1195, 3)\n",
      "(1195, 3)\n",
      "(2589, 3)\n",
      "(2589, 3)\n",
      "(2589, 3)\n"
     ]
    }
   ],
   "source": [
    "print(x_apple_hsv.shape)\n",
    "print(x_apple_bgr.shape)\n",
    "print(x_apple_lab.shape)\n",
    "print(x_other_hsv.shape)\n",
    "print(x_other_bgr.shape)\n",
    "print(x_other_lab.shape)"
   ]
  },
  {
   "cell_type": "code",
   "execution_count": 272,
   "metadata": {
    "collapsed": false
   },
   "outputs": [
    {
     "name": "stdout",
     "output_type": "stream",
     "text": [
      "('x_train: ', (3784, 9))\n",
      "('y_train: ', (3784,))\n"
     ]
    }
   ],
   "source": [
    "# Make a big feature vector\n",
    "r = 1\n",
    "x_apple = np.hstack((x_apple_bgr[::r], x_apple_hsv[::r], x_apple_lab[::r]))\n",
    "x_other = np.hstack((x_other_bgr[::r], x_other_hsv[::r], x_other_lab[::r]))\n",
    "x_train = np.vstack((x_apple, x_other))\n",
    "\n",
    "y_apple = np.ones((np.size(x_apple, axis=0),))\n",
    "y_other = np.zeros((np.size(x_other, axis=0),))\n",
    "y_train = np.hstack((y_apple, y_other))\n",
    "\n",
    "print('x_train: ', x_train.shape)\n",
    "print('y_train: ', y_train.shape)"
   ]
  },
  {
   "cell_type": "code",
   "execution_count": 273,
   "metadata": {
    "collapsed": false
   },
   "outputs": [
    {
     "data": {
      "text/plain": [
       "SVC(C=1.0, cache_size=200, class_weight=None, coef0=0.0, degree=3, gamma=0.0,\n",
       "  kernel='rbf', max_iter=-1, probability=False, random_state=None,\n",
       "  shrinking=True, tol=0.001, verbose=False)"
      ]
     },
     "execution_count": 273,
     "metadata": {},
     "output_type": "execute_result"
    }
   ],
   "source": [
    "# Use SVM for classification\n",
    "clf = svm.SVC()\n",
    "clf.fit(x_train, y_train)"
   ]
  },
  {
   "cell_type": "code",
   "execution_count": 277,
   "metadata": {
    "collapsed": false
   },
   "outputs": [],
   "source": [
    "# Load another photo for testing\n",
    "imbgr_rect_test = cv2.imread(\n",
    "    '/home/chao/Workspace/repo/kumar_robotics/Galt/detection/labeled_data/frame0000.png')\n",
    "imbgr_rect_test = subsample_image(imbgr_rect_test)\n",
    "imhsv_rect_test = cv2.cvtColor(imbgr_rect_test, cv2.COLOR_BGR2HSV)\n",
    "imlab_rect_test = cv2.cvtColor(imbgr_rect_test, cv2.COLOR_BGR2LAB)"
   ]
  },
  {
   "cell_type": "code",
   "execution_count": 275,
   "metadata": {
    "collapsed": false
   },
   "outputs": [
    {
     "name": "stdout",
     "output_type": "stream",
     "text": [
      "('x_test: ', (144000, 9))\n"
     ]
    }
   ],
   "source": [
    "# Create a big feature vector for testing\n",
    "h, w, c = np.shape(imbgr_rect_test)\n",
    "x_test_bgr = np.reshape(imbgr_rect_test, (h * w, -1))\n",
    "x_test_hsv = np.reshape(imhsv_rect_test, (h * w, -1))\n",
    "x_test_lab = np.reshape(imlab_rect_test, (h * w, -1))\n",
    "x_test = np.hstack((x_test_bgr, x_test_hsv, x_test_lab))\n",
    "print('x_test: ', x_test.shape)"
   ]
  },
  {
   "cell_type": "code",
   "execution_count": 276,
   "metadata": {
    "collapsed": true
   },
   "outputs": [],
   "source": [
    "y_test = clf.predict(x_test)"
   ]
  },
  {
   "cell_type": "code",
   "execution_count": 278,
   "metadata": {
    "collapsed": false
   },
   "outputs": [
    {
     "data": {
      "text/plain": [
       "<matplotlib.image.AxesImage at 0x7f833f8c2a10>"
      ]
     },
     "execution_count": 278,
     "metadata": {},
     "output_type": "execute_result"
    }
   ],
   "source": [
    "bw_y_test = np.reshape(y_test, (h , w))\n",
    "bw_y_test = bw_y_test > 0\n",
    "plt.imshow(bw_y_test)"
   ]
  },
  {
   "cell_type": "code",
   "execution_count": 279,
   "metadata": {
    "collapsed": false
   },
   "outputs": [
    {
     "data": {
      "text/plain": [
       "<matplotlib.image.AxesImage at 0x7f833f69d9d0>"
      ]
     },
     "execution_count": 279,
     "metadata": {},
     "output_type": "execute_result"
    }
   ],
   "source": [
    "imbgr_test_apple = np.array(imbgr_rect_test, copy=True)\n",
    "imbgr_test_apple[~bw_y_test, :] = 255\n",
    "plt.imshow(imbgr_test_apple)"
   ]
  },
  {
   "cell_type": "code",
   "execution_count": null,
   "metadata": {
    "collapsed": true
   },
   "outputs": [],
   "source": []
  }
 ],
 "metadata": {
  "kernelspec": {
   "display_name": "Python 2",
   "language": "python",
   "name": "python2"
  },
  "language_info": {
   "codemirror_mode": {
    "name": "ipython",
    "version": 2
   },
   "file_extension": ".py",
   "mimetype": "text/x-python",
   "name": "python",
   "nbconvert_exporter": "python",
   "pygments_lexer": "ipython2",
   "version": "2.7.6"
  }
 },
 "nbformat": 4,
 "nbformat_minor": 0
}
